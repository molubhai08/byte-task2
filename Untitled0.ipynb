{
  "nbformat": 4,
  "nbformat_minor": 0,
  "metadata": {
    "colab": {
      "provenance": [],
      "gpuType": "T4",
      "authorship_tag": "ABX9TyOPpkuTpoxSqnpt7uDP3SfB",
      "include_colab_link": true
    },
    "kernelspec": {
      "name": "python3",
      "display_name": "Python 3"
    },
    "language_info": {
      "name": "python"
    },
    "accelerator": "GPU"
  },
  "cells": [
    {
      "cell_type": "markdown",
      "metadata": {
        "id": "view-in-github",
        "colab_type": "text"
      },
      "source": [
        "<a href=\"https://colab.research.google.com/github/molubhai08/byte-task2/blob/main/Untitled0.ipynb\" target=\"_parent\"><img src=\"https://colab.research.google.com/assets/colab-badge.svg\" alt=\"Open In Colab\"/></a>"
      ]
    },
    {
      "cell_type": "code",
      "source": [
        "!nvidia-smi"
      ],
      "metadata": {
        "colab": {
          "base_uri": "https://localhost:8080/"
        },
        "id": "ycQrIwJtZ4Ax",
        "outputId": "65e7240c-a638-4391-df95-5eea18525fee"
      },
      "execution_count": 6,
      "outputs": [
        {
          "output_type": "stream",
          "name": "stdout",
          "text": [
            "Fri Sep 13 17:54:53 2024       \n",
            "+---------------------------------------------------------------------------------------+\n",
            "| NVIDIA-SMI 535.104.05             Driver Version: 535.104.05   CUDA Version: 12.2     |\n",
            "|-----------------------------------------+----------------------+----------------------+\n",
            "| GPU  Name                 Persistence-M | Bus-Id        Disp.A | Volatile Uncorr. ECC |\n",
            "| Fan  Temp   Perf          Pwr:Usage/Cap |         Memory-Usage | GPU-Util  Compute M. |\n",
            "|                                         |                      |               MIG M. |\n",
            "|=========================================+======================+======================|\n",
            "|   0  Tesla T4                       Off | 00000000:00:04.0 Off |                    0 |\n",
            "| N/A   68C    P8              13W /  70W |      0MiB / 15360MiB |      0%      Default |\n",
            "|                                         |                      |                  N/A |\n",
            "+-----------------------------------------+----------------------+----------------------+\n",
            "                                                                                         \n",
            "+---------------------------------------------------------------------------------------+\n",
            "| Processes:                                                                            |\n",
            "|  GPU   GI   CI        PID   Type   Process name                            GPU Memory |\n",
            "|        ID   ID                                                             Usage      |\n",
            "|=======================================================================================|\n",
            "|  No running processes found                                                           |\n",
            "+---------------------------------------------------------------------------------------+\n"
          ]
        }
      ]
    },
    {
      "cell_type": "code",
      "source": [
        "import torch\n",
        "!nvcc --version\n",
        "TORCH_VERSION = \".\".join(torch.__version__.split(\".\")[:2])\n",
        "CUDA_VERSION = torch.__version__.split(\"+\")[-1]\n",
        "print(\"torch: \", TORCH_VERSION, \"; cuda: \", CUDA_VERSION)"
      ],
      "metadata": {
        "id": "CCeYSiKDOXiU",
        "colab": {
          "base_uri": "https://localhost:8080/"
        },
        "outputId": "7ec52181-f4c8-4f3c-e62b-23caa10a990a"
      },
      "execution_count": 7,
      "outputs": [
        {
          "output_type": "stream",
          "name": "stdout",
          "text": [
            "nvcc: NVIDIA (R) Cuda compiler driver\n",
            "Copyright (c) 2005-2023 NVIDIA Corporation\n",
            "Built on Tue_Aug_15_22:02:13_PDT_2023\n",
            "Cuda compilation tools, release 12.2, V12.2.140\n",
            "Build cuda_12.2.r12.2/compiler.33191640_0\n",
            "torch:  2.4 ; cuda:  cu121\n"
          ]
        }
      ]
    },
    {
      "cell_type": "code",
      "source": [
        "import os\n",
        "HOME = os.getcwd()\n",
        "print(HOME)"
      ],
      "metadata": {
        "id": "qGvBCVuBOnnK",
        "outputId": "4ddb8bd8-c30c-43db-fd09-8e792af93a84",
        "colab": {
          "base_uri": "https://localhost:8080/"
        }
      },
      "execution_count": 8,
      "outputs": [
        {
          "output_type": "stream",
          "name": "stdout",
          "text": [
            "/content\n"
          ]
        }
      ]
    },
    {
      "cell_type": "code",
      "source": [
        "!pip install ultralytics\n",
        "\n",
        "from IPython import display\n",
        "display.clear_output()\n",
        "\n",
        "import ultralytics\n",
        "ultralytics.checks()"
      ],
      "metadata": {
        "colab": {
          "base_uri": "https://localhost:8080/"
        },
        "id": "aFs-j-oRaKMo",
        "outputId": "e8dfb762-b428-444f-c069-bc5b3a2cd117"
      },
      "execution_count": 9,
      "outputs": [
        {
          "output_type": "stream",
          "name": "stdout",
          "text": [
            "Ultralytics YOLOv8.2.92 🚀 Python-3.10.12 torch-2.4.0+cu121 CUDA:0 (Tesla T4, 15102MiB)\n",
            "Setup complete ✅ (2 CPUs, 12.7 GB RAM, 32.9/112.6 GB disk)\n"
          ]
        }
      ]
    },
    {
      "cell_type": "code",
      "source": [
        "!pip install supervision\n",
        "\n",
        "from IPython import display\n",
        "display.clear_output()\n",
        "\n",
        "import supervision as sv\n",
        "print(\"supervision\", sv.__version__)"
      ],
      "metadata": {
        "colab": {
          "base_uri": "https://localhost:8080/"
        },
        "id": "iqE8CDsRaSOq",
        "outputId": "cd2df10a-32f4-486a-8a34-0f207c7709da"
      },
      "execution_count": 10,
      "outputs": [
        {
          "output_type": "stream",
          "name": "stdout",
          "text": [
            "supervision 0.23.0\n"
          ]
        }
      ]
    },
    {
      "cell_type": "code",
      "source": [],
      "metadata": {
        "id": "FpogZQXacwd5"
      },
      "execution_count": 10,
      "outputs": []
    },
    {
      "cell_type": "code",
      "source": [
        "from ultralytics import YOLO\n",
        "\n",
        "model = YOLO('yolov8s.pt')"
      ],
      "metadata": {
        "id": "0dlwlaPmae0n"
      },
      "execution_count": 11,
      "outputs": []
    },
    {
      "cell_type": "code",
      "source": [
        "path = \"/content/Task2.mp4\""
      ],
      "metadata": {
        "id": "gAzSp6-6anfn"
      },
      "execution_count": 12,
      "outputs": []
    },
    {
      "cell_type": "code",
      "source": [
        "import numpy as np\n",
        "import cv2\n",
        "import supervision as sv\n",
        "\n",
        "# Helper function to check if a bounding box intersects with the polygon zone\n",
        "def bbox_in_polygon(bbox, polygon):\n",
        "    x1, y1, x2, y2 = bbox\n",
        "    bbox_points = np.array([[x1, y1], [x2, y1], [x2, y2], [x1, y2]])\n",
        "\n",
        "    # Check if any point of the bbox is inside the polygon\n",
        "    for point in bbox_points:\n",
        "        if cv2.pointPolygonTest(polygon, (point[0], point[1]), False) >= 0:\n",
        "            return True\n",
        "\n",
        "    # Check if any of the polygon points are inside the bbox\n",
        "    for point in polygon:\n",
        "        if x1 <= point[0] <= x2 and y1 <= point[1] <= y2:\n",
        "            return True\n",
        "\n",
        "    return False\n",
        "\n",
        "# initiate polygon zone\n",
        "polygon = np.array([[472, 2119], [3384, 2103], [2604, 735], [1436, 711]])\n",
        "\n",
        "# Create a PolygonZone object\n",
        "polygon_zone = sv.PolygonZone(polygon=polygon)\n",
        "\n",
        "# initiate annotators\n",
        "box_annotator = sv.BoundingBoxAnnotator(thickness=4)\n",
        "label_annotator = sv.LabelAnnotator(text_thickness=0, text_scale=0)\n",
        "zone_annotator = sv.PolygonZoneAnnotator(zone=polygon_zone, color=sv.Color.WHITE, thickness=0, text_thickness=0, text_scale=0)\n",
        "\n",
        "# Initialize counters for specific class IDs\n",
        "class_labels = {2: \"Car\", 3: \"Motorbike\", 5: \"Bus\", 7: \"Truck\"}\n",
        "class_counters = {id: 0 for id in class_labels}\n",
        "\n",
        "def process_frame(frame: np.ndarray, _) -> np.ndarray:\n",
        "    global class_counters  # Ensure we can modify the global counters\n",
        "\n",
        "    # detect\n",
        "    results = model(frame, imgsz=1280)[0]\n",
        "    detections = sv.Detections.from_ultralytics(results)\n",
        "    desired_class_ids = set(class_labels.keys())\n",
        "    class_ids = detections.class_id\n",
        "    mask = np.isin(class_ids, list(desired_class_ids))\n",
        "    filtered_detections = detections[mask]\n",
        "\n",
        "    # Reset counters\n",
        "    for class_id in class_counters:\n",
        "        class_counters[class_id] = 0\n",
        "\n",
        "    # Update the zone and counters\n",
        "    for detection in filtered_detections:\n",
        "        bbox = detection[0]  # Access bounding box (x1, y1, x2, y2)\n",
        "        class_id = detection[3]  # Access class ID\n",
        "        if bbox_in_polygon(bbox, polygon):\n",
        "            if class_id in class_counters:\n",
        "                class_counters[class_id] += 1\n",
        "\n",
        "    # Annotate\n",
        "    labels = [f\"{model.names[class_id]} {confidence:0.2f}\" for _, _, confidence, class_id, _, _ in filtered_detections]\n",
        "    frame = box_annotator.annotate(scene=frame, detections=filtered_detections)\n",
        "    frame = label_annotator.annotate(scene=frame, detections=filtered_detections, labels=labels)\n",
        "    frame = zone_annotator.annotate(scene=frame)\n",
        "\n",
        "    # Display counters on the frame\n",
        "    y_offset = 100\n",
        "    for class_id, count in class_counters.items():\n",
        "        label = f\"{class_labels[class_id]}: {count}\"\n",
        "        cv2.putText(frame, label, (10, y_offset), cv2.FONT_HERSHEY_SIMPLEX, 4, (255, 255, 255), 2, cv2.LINE_AA)\n",
        "        y_offset += 100\n",
        "\n",
        "    return frame\n",
        "\n",
        "sv.process_video(source_path=path, target_path=f\"{HOME}/result.mp4\", callback=process_frame)\n",
        "\n",
        "from IPython import display\n",
        "display.clear_output()\n"
      ],
      "metadata": {
        "id": "lziwIv7IhMSc"
      },
      "execution_count": 30,
      "outputs": []
    },
    {
      "cell_type": "code",
      "source": [
        "from google.colab import files\n",
        "\n",
        "file_path = 'vehicle-counting1.mp4'\n",
        "files.download(file_path)"
      ],
      "metadata": {
        "id": "8xv4IMjViRml"
      },
      "execution_count": null,
      "outputs": []
    }
  ]
}